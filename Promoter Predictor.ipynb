{
 "cells": [
  {
   "cell_type": "code",
   "execution_count": 20,
   "id": "94b32b3a",
   "metadata": {},
   "outputs": [],
   "source": [
    "import tensorflow as tf\n",
    "\n",
    "from tensorflow.keras import datasets, layers, models\n",
    "import matplotlib.pyplot as plt\n",
    "\n",
    "import pandas as pd\n",
    "import numpy as np\n",
    "\n",
    "from sklearn.model_selection import train_test_split\n",
    "from sklearn.preprocessing import OneHotEncoder\n",
    "from sklearn.preprocessing import LabelEncoder\n",
    "\n",
    "from sklearn.metrics import accuracy_score, classification_report\n",
    "\n",
    "import matplotlib.pyplot as plt\n",
    "import seaborn as sns\n",
    "from sklearn.metrics import confusion_matrix"
   ]
  },
  {
   "cell_type": "code",
   "execution_count": 2,
   "id": "d3a0714a",
   "metadata": {},
   "outputs": [],
   "source": [
    "df = pd.read_csv(\"C:/Users/destr/Desktop/DNA Promoter Gene Prediction Data/promoters.data\", names=['Promoter', 'Name', 'Gene'])"
   ]
  },
  {
   "cell_type": "code",
   "execution_count": 3,
   "id": "b6779005",
   "metadata": {},
   "outputs": [
    {
     "data": {
      "text/html": [
       "<div>\n",
       "<style scoped>\n",
       "    .dataframe tbody tr th:only-of-type {\n",
       "        vertical-align: middle;\n",
       "    }\n",
       "\n",
       "    .dataframe tbody tr th {\n",
       "        vertical-align: top;\n",
       "    }\n",
       "\n",
       "    .dataframe thead th {\n",
       "        text-align: right;\n",
       "    }\n",
       "</style>\n",
       "<table border=\"1\" class=\"dataframe\">\n",
       "  <thead>\n",
       "    <tr style=\"text-align: right;\">\n",
       "      <th></th>\n",
       "      <th>Promoter</th>\n",
       "      <th>Name</th>\n",
       "      <th>Gene</th>\n",
       "    </tr>\n",
       "  </thead>\n",
       "  <tbody>\n",
       "    <tr>\n",
       "      <th>0</th>\n",
       "      <td>+</td>\n",
       "      <td>S10</td>\n",
       "      <td>\\t\\ttactagcaatacgcttgcgttcggtggttaagtatgtataat...</td>\n",
       "    </tr>\n",
       "    <tr>\n",
       "      <th>1</th>\n",
       "      <td>+</td>\n",
       "      <td>AMPC</td>\n",
       "      <td>\\t\\ttgctatcctgacagttgtcacgctgattggtgtcgttacaat...</td>\n",
       "    </tr>\n",
       "    <tr>\n",
       "      <th>2</th>\n",
       "      <td>+</td>\n",
       "      <td>AROH</td>\n",
       "      <td>\\t\\tgtactagagaactagtgcattagcttatttttttgttatcat...</td>\n",
       "    </tr>\n",
       "    <tr>\n",
       "      <th>3</th>\n",
       "      <td>+</td>\n",
       "      <td>DEOP2</td>\n",
       "      <td>\\taattgtgatgtgtatcgaagtgtgttgcggagtagatgttagaa...</td>\n",
       "    </tr>\n",
       "    <tr>\n",
       "      <th>4</th>\n",
       "      <td>+</td>\n",
       "      <td>LEU1_TRNA</td>\n",
       "      <td>\\ttcgataattaactattgacgaaaagctgaaaaccactagaatgc...</td>\n",
       "    </tr>\n",
       "    <tr>\n",
       "      <th>...</th>\n",
       "      <td>...</td>\n",
       "      <td>...</td>\n",
       "      <td>...</td>\n",
       "    </tr>\n",
       "    <tr>\n",
       "      <th>101</th>\n",
       "      <td>-</td>\n",
       "      <td>799</td>\n",
       "      <td>\\t\\tcctcaatggcctctaaacgggtcttgaggggttttttgctga...</td>\n",
       "    </tr>\n",
       "    <tr>\n",
       "      <th>102</th>\n",
       "      <td>-</td>\n",
       "      <td>987</td>\n",
       "      <td>\\t\\tgtattctcaacaagattaaccgacagattcaatctcgtggat...</td>\n",
       "    </tr>\n",
       "    <tr>\n",
       "      <th>103</th>\n",
       "      <td>-</td>\n",
       "      <td>1226</td>\n",
       "      <td>\\t\\tcgcgactacgatgagatgcctgagtgcttccgttactggatt...</td>\n",
       "    </tr>\n",
       "    <tr>\n",
       "      <th>104</th>\n",
       "      <td>-</td>\n",
       "      <td>794</td>\n",
       "      <td>\\t\\tctcgtcctcaatggcctctaaacgggtcttgaggggtttttt...</td>\n",
       "    </tr>\n",
       "    <tr>\n",
       "      <th>105</th>\n",
       "      <td>-</td>\n",
       "      <td>1442</td>\n",
       "      <td>\\t\\ttaacattaataaataaggaggctctaatggcactcattagcc...</td>\n",
       "    </tr>\n",
       "  </tbody>\n",
       "</table>\n",
       "<p>106 rows × 3 columns</p>\n",
       "</div>"
      ],
      "text/plain": [
       "    Promoter       Name                                               Gene\n",
       "0          +        S10  \\t\\ttactagcaatacgcttgcgttcggtggttaagtatgtataat...\n",
       "1          +       AMPC  \\t\\ttgctatcctgacagttgtcacgctgattggtgtcgttacaat...\n",
       "2          +       AROH  \\t\\tgtactagagaactagtgcattagcttatttttttgttatcat...\n",
       "3          +      DEOP2  \\taattgtgatgtgtatcgaagtgtgttgcggagtagatgttagaa...\n",
       "4          +  LEU1_TRNA  \\ttcgataattaactattgacgaaaagctgaaaaccactagaatgc...\n",
       "..       ...        ...                                                ...\n",
       "101        -        799  \\t\\tcctcaatggcctctaaacgggtcttgaggggttttttgctga...\n",
       "102        -        987  \\t\\tgtattctcaacaagattaaccgacagattcaatctcgtggat...\n",
       "103        -       1226  \\t\\tcgcgactacgatgagatgcctgagtgcttccgttactggatt...\n",
       "104        -        794  \\t\\tctcgtcctcaatggcctctaaacgggtcttgaggggtttttt...\n",
       "105        -       1442  \\t\\ttaacattaataaataaggaggctctaatggcactcattagcc...\n",
       "\n",
       "[106 rows x 3 columns]"
      ]
     },
     "execution_count": 3,
     "metadata": {},
     "output_type": "execute_result"
    }
   ],
   "source": [
    "df"
   ]
  },
  {
   "cell_type": "code",
   "execution_count": 4,
   "id": "4262b47c",
   "metadata": {},
   "outputs": [],
   "source": [
    "df['Gene'] = [seq.replace(\"\\t\", \"\").strip() for seq in df['Gene']]\n",
    "df['Gene'] = [seq.replace(\" \", \"\").strip() for seq in df['Gene']]\n",
    "\n",
    "# Split sequences into lists of characters\n",
    "seq = df['Gene'].apply(list).tolist()"
   ]
  },
  {
   "cell_type": "code",
   "execution_count": 5,
   "id": "52e5ab20",
   "metadata": {},
   "outputs": [],
   "source": [
    "encoder = OneHotEncoder(sparse=False, dtype=int)\n",
    "seq_encoded = encoder.fit_transform(seq)\n",
    "\n",
    "# Reshape into (num_samples, sequence_length, 4)\n",
    "seq_encoded = seq_encoded.reshape(len(seq), -1, 4)\n",
    "\n",
    "promoter = df[\"Promoter\"]"
   ]
  },
  {
   "cell_type": "code",
   "execution_count": 6,
   "id": "7227b194",
   "metadata": {},
   "outputs": [
    {
     "data": {
      "text/plain": [
       "array([[[0, 0, 0, 1],\n",
       "        [1, 0, 0, 0],\n",
       "        [0, 1, 0, 0],\n",
       "        ...,\n",
       "        [0, 1, 0, 0],\n",
       "        [0, 0, 1, 0],\n",
       "        [0, 0, 0, 1]],\n",
       "\n",
       "       [[0, 0, 0, 1],\n",
       "        [0, 0, 1, 0],\n",
       "        [0, 1, 0, 0],\n",
       "        ...,\n",
       "        [0, 1, 0, 0],\n",
       "        [1, 0, 0, 0],\n",
       "        [1, 0, 0, 0]],\n",
       "\n",
       "       [[0, 0, 1, 0],\n",
       "        [0, 0, 0, 1],\n",
       "        [1, 0, 0, 0],\n",
       "        ...,\n",
       "        [0, 0, 1, 0],\n",
       "        [0, 1, 0, 0],\n",
       "        [0, 0, 1, 0]],\n",
       "\n",
       "       ...,\n",
       "\n",
       "       [[0, 1, 0, 0],\n",
       "        [0, 0, 1, 0],\n",
       "        [0, 1, 0, 0],\n",
       "        ...,\n",
       "        [0, 0, 0, 1],\n",
       "        [0, 1, 0, 0],\n",
       "        [0, 1, 0, 0]],\n",
       "\n",
       "       [[0, 1, 0, 0],\n",
       "        [0, 0, 0, 1],\n",
       "        [0, 1, 0, 0],\n",
       "        ...,\n",
       "        [1, 0, 0, 0],\n",
       "        [1, 0, 0, 0],\n",
       "        [0, 1, 0, 0]],\n",
       "\n",
       "       [[0, 0, 0, 1],\n",
       "        [1, 0, 0, 0],\n",
       "        [1, 0, 0, 0],\n",
       "        ...,\n",
       "        [1, 0, 0, 0],\n",
       "        [0, 1, 0, 0],\n",
       "        [0, 0, 0, 1]]])"
      ]
     },
     "execution_count": 6,
     "metadata": {},
     "output_type": "execute_result"
    }
   ],
   "source": [
    "seq_encoded"
   ]
  },
  {
   "cell_type": "code",
   "execution_count": 7,
   "id": "c2948fc0",
   "metadata": {},
   "outputs": [],
   "source": [
    "promoter_train, promoter_test, sequence_train, sequence_test = train_test_split(\n",
    "    promoter, seq_encoded, test_size = 0.2, random_state = 42\n",
    ")\n",
    "promoter_train, promoter_val, sequence_train, sequence_val = train_test_split(\n",
    "    promoter_train, sequence_train, test_size = 0.2, random_state = 42\n",
    ")"
   ]
  },
  {
   "cell_type": "code",
   "execution_count": 8,
   "id": "8252c658",
   "metadata": {},
   "outputs": [],
   "source": [
    "p_train = pd.DataFrame(np.where(promoter_train == \"+\", 1, 0))\n",
    "p_test = pd.DataFrame(np.where(promoter_test == \"+\", 1, 0))\n",
    "p_val = pd.DataFrame(np.where(promoter_val == \"+\", 1, 0))"
   ]
  },
  {
   "cell_type": "code",
   "execution_count": 9,
   "id": "411a0fa1",
   "metadata": {},
   "outputs": [],
   "source": [
    "model = models.Sequential([\n",
    "    layers.Conv1D(filters=32, kernel_size=3, activation='relu', input_shape=(57, 4)),\n",
    "    layers.MaxPooling1D(pool_size=2),\n",
    "    layers.Conv1D(filters=32, kernel_size=3, activation='relu'),\n",
    "    layers.MaxPooling1D(pool_size=2),\n",
    "    layers.Conv1D(filters=32, kernel_size=3, activation='relu'),\n",
    "    layers.Flatten(),\n",
    "    layers.Dense(64, activation='relu'),\n",
    "    layers.Dense(1, activation='sigmoid')\n",
    "])"
   ]
  },
  {
   "cell_type": "code",
   "execution_count": 10,
   "id": "c6f3d0eb",
   "metadata": {},
   "outputs": [],
   "source": [
    "model.compile(optimizer = 'adam', loss=\"binary_crossentropy\", metrics=[\"accuracy\"])"
   ]
  },
  {
   "cell_type": "code",
   "execution_count": 11,
   "id": "07ec260b",
   "metadata": {},
   "outputs": [
    {
     "name": "stdout",
     "output_type": "stream",
     "text": [
      "Epoch 1/10\n",
      "67/67 [==============================] - 1s 5ms/step - loss: 0.7016 - accuracy: 0.4776 - val_loss: 0.6566 - val_accuracy: 0.7059\n",
      "Epoch 2/10\n",
      "67/67 [==============================] - 0s 2ms/step - loss: 0.5959 - accuracy: 0.7612 - val_loss: 0.5932 - val_accuracy: 0.7059\n",
      "Epoch 3/10\n",
      "67/67 [==============================] - 0s 2ms/step - loss: 0.3792 - accuracy: 0.8507 - val_loss: 0.5987 - val_accuracy: 0.7059\n",
      "Epoch 4/10\n",
      "67/67 [==============================] - 0s 2ms/step - loss: 0.1734 - accuracy: 0.9851 - val_loss: 0.3925 - val_accuracy: 0.7647\n",
      "Epoch 5/10\n",
      "67/67 [==============================] - 0s 2ms/step - loss: 0.0842 - accuracy: 0.9851 - val_loss: 0.4733 - val_accuracy: 0.8235\n",
      "Epoch 6/10\n",
      "67/67 [==============================] - 0s 2ms/step - loss: 0.0282 - accuracy: 1.0000 - val_loss: 0.3498 - val_accuracy: 0.8235\n",
      "Epoch 7/10\n",
      "67/67 [==============================] - 0s 2ms/step - loss: 0.0070 - accuracy: 1.0000 - val_loss: 0.3954 - val_accuracy: 0.7059\n",
      "Epoch 8/10\n",
      "67/67 [==============================] - 0s 2ms/step - loss: 0.0045 - accuracy: 1.0000 - val_loss: 0.4000 - val_accuracy: 0.8235\n",
      "Epoch 9/10\n",
      "67/67 [==============================] - 0s 2ms/step - loss: 0.0026 - accuracy: 1.0000 - val_loss: 0.4142 - val_accuracy: 0.8235\n",
      "Epoch 10/10\n",
      "67/67 [==============================] - 0s 2ms/step - loss: 0.0018 - accuracy: 1.0000 - val_loss: 0.4387 - val_accuracy: 0.7059\n"
     ]
    }
   ],
   "source": [
    "history = model.fit(\n",
    "    sequence_train, p_train,\n",
    "    batch_size=1, epochs=10,\n",
    "    validation_data=(sequence_val, p_val)\n",
    ")"
   ]
  },
  {
   "cell_type": "code",
   "execution_count": 12,
   "id": "c183150b",
   "metadata": {},
   "outputs": [
    {
     "name": "stdout",
     "output_type": "stream",
     "text": [
      "1/1 [==============================] - 0s 226ms/step\n"
     ]
    }
   ],
   "source": [
    "predictions = model.predict(sequence_test)"
   ]
  },
  {
   "cell_type": "code",
   "execution_count": 15,
   "id": "4e5743e8",
   "metadata": {
    "scrolled": false
   },
   "outputs": [
    {
     "data": {
      "text/plain": [
       "array([[6.6144182e-03],\n",
       "       [9.9996483e-01],\n",
       "       [9.8998398e-01],\n",
       "       [2.5640812e-03],\n",
       "       [2.1961249e-01],\n",
       "       [4.2232324e-04],\n",
       "       [6.5585655e-01],\n",
       "       [9.9729520e-01],\n",
       "       [3.5307254e-03],\n",
       "       [9.9997026e-01],\n",
       "       [9.4422245e-01],\n",
       "       [9.2191637e-02],\n",
       "       [9.9941033e-01],\n",
       "       [3.4637279e-03],\n",
       "       [9.3774444e-01],\n",
       "       [1.4263999e-01],\n",
       "       [1.7503260e-02],\n",
       "       [1.2184134e-03],\n",
       "       [9.3793549e-02],\n",
       "       [9.9283046e-01],\n",
       "       [9.9992681e-01],\n",
       "       [1.8229741e-03]], dtype=float32)"
      ]
     },
     "execution_count": 15,
     "metadata": {},
     "output_type": "execute_result"
    }
   ],
   "source": [
    "predictions"
   ]
  },
  {
   "cell_type": "code",
   "execution_count": 16,
   "id": "0e218997",
   "metadata": {},
   "outputs": [],
   "source": [
    "preds = (predictions >= 0.5).astype(int).flatten()"
   ]
  },
  {
   "cell_type": "code",
   "execution_count": 17,
   "id": "8dc41601",
   "metadata": {},
   "outputs": [
    {
     "data": {
      "text/plain": [
       "array([0, 1, 1, 0, 0, 0, 1, 1, 0, 1, 1, 0, 1, 0, 1, 0, 0, 0, 0, 1, 1, 0])"
      ]
     },
     "execution_count": 17,
     "metadata": {},
     "output_type": "execute_result"
    }
   ],
   "source": [
    "preds"
   ]
  },
  {
   "cell_type": "code",
   "execution_count": 19,
   "id": "afd4fbb7",
   "metadata": {},
   "outputs": [
    {
     "name": "stdout",
     "output_type": "stream",
     "text": [
      "Accuracy:  0.9545454545454546\n",
      "Classification Report:\n",
      "               precision    recall  f1-score   support\n",
      "\n",
      "           0       0.92      1.00      0.96        11\n",
      "           1       1.00      0.91      0.95        11\n",
      "\n",
      "    accuracy                           0.95        22\n",
      "   macro avg       0.96      0.95      0.95        22\n",
      "weighted avg       0.96      0.95      0.95        22\n",
      "\n"
     ]
    }
   ],
   "source": [
    "print(\"Accuracy: \", accuracy_score(p_test, preds))\n",
    "print(\"Classification Report:\\n\", classification_report(p_test, preds))"
   ]
  },
  {
   "cell_type": "code",
   "execution_count": 26,
   "id": "e73936de",
   "metadata": {},
   "outputs": [
    {
     "data": {
      "image/png": "[encoded data removed]",
      "text/plain": [
       "<Figure size 432x288 with 2 Axes>"
      ]
     },
     "metadata": {
      "needs_background": "light"
     },
     "output_type": "display_data"
    }
   ],
   "source": [
    "cm = confusion_matrix(p_test, preds)\n",
    "sns.heatmap(cm, annot=True, fmt=\"d\", cmap=\"Blues\", xticklabels=[0, 1], yticklabels=[0, 1])\n",
    "plt.xlabel(\"Predicted\")\n",
    "plt.ylabel(\"Actual\")\n",
    "plt.title(\"Confusion Matrix\")\n",
    "plt.show()"
   ]
  }
 ],
 "metadata": {
  "kernelspec": {
   "display_name": "Python 3 (ipykernel)",
   "language": "python",
   "name": "python3"
  },
  "language_info": {
   "codemirror_mode": {
    "name": "ipython",
    "version": 3
   },
   "file_extension": ".py",
   "mimetype": "text/x-python",
   "name": "python",
   "nbconvert_exporter": "python",
   "pygments_lexer": "ipython3",
   "version": "3.9.12"
  }
 },
 "nbformat": 4,
 "nbformat_minor": 5
}
